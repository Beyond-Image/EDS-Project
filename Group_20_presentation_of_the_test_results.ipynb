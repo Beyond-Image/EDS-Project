{
 "cells": [
  {
   "cell_type": "code",
   "execution_count": 30,
   "id": "a39b8658",
   "metadata": {},
   "outputs": [],
   "source": [
    "import pandas as pd\n",
    "import numpy as np\n",
    "import imblearn\n",
    "from imblearn.under_sampling import NearMiss\n",
    "from sklearn.model_selection import GridSearchCV, RandomizedSearchCV, train_test_split\n",
    "from sklearn.preprocessing import StandardScaler\n",
    "from sklearn.linear_model import LogisticRegression\n",
    "from sklearn.ensemble import RandomForestClassifier, VotingClassifier\n",
    "from sklearn.neighbors import KNeighborsClassifier\n",
    "from sklearn.feature_selection import SequentialFeatureSelector\n",
    "from sklearn.metrics import accuracy_score, classification_report, confusion_matrix, ConfusionMatrixDisplay\n",
    "from sklearn.svm import SVC\n",
    "from xgboost import XGBClassifier\n",
    "from tensorflow.keras.models import Sequential\n",
    "from tensorflow.keras.layers import Dense\n",
    "import matplotlib.pyplot as plt"
   ]
  },
  {
   "cell_type": "code",
   "execution_count": 13,
   "id": "69a045c3",
   "metadata": {},
   "outputs": [
    {
     "data": {
      "text/html": [
       "<div>\n",
       "<style scoped>\n",
       "    .dataframe tbody tr th:only-of-type {\n",
       "        vertical-align: middle;\n",
       "    }\n",
       "\n",
       "    .dataframe tbody tr th {\n",
       "        vertical-align: top;\n",
       "    }\n",
       "\n",
       "    .dataframe thead th {\n",
       "        text-align: right;\n",
       "    }\n",
       "</style>\n",
       "<table border=\"1\" class=\"dataframe\">\n",
       "  <thead>\n",
       "    <tr style=\"text-align: right;\">\n",
       "      <th></th>\n",
       "      <th>HighBP</th>\n",
       "      <th>HighChol</th>\n",
       "      <th>CholCheck</th>\n",
       "      <th>BMI</th>\n",
       "      <th>Smoker</th>\n",
       "      <th>Stroke</th>\n",
       "      <th>HeartDiseaseorAttack</th>\n",
       "      <th>PhysActivity</th>\n",
       "      <th>Fruits</th>\n",
       "      <th>Veggies</th>\n",
       "      <th>...</th>\n",
       "      <th>NoDocbcCost</th>\n",
       "      <th>GenHlth</th>\n",
       "      <th>MentHlth</th>\n",
       "      <th>PhysHlth</th>\n",
       "      <th>DiffWalk</th>\n",
       "      <th>Sex</th>\n",
       "      <th>Age</th>\n",
       "      <th>Education</th>\n",
       "      <th>Income</th>\n",
       "      <th>Diabetes_binary</th>\n",
       "    </tr>\n",
       "  </thead>\n",
       "  <tbody>\n",
       "    <tr>\n",
       "      <th>0</th>\n",
       "      <td>-1.212894</td>\n",
       "      <td>0.876922</td>\n",
       "      <td>0.074482</td>\n",
       "      <td>-1.061978</td>\n",
       "      <td>1.158253</td>\n",
       "      <td>-0.225623</td>\n",
       "      <td>-0.384172</td>\n",
       "      <td>0.514775</td>\n",
       "      <td>-1.494245</td>\n",
       "      <td>0.418265</td>\n",
       "      <td>...</td>\n",
       "      <td>-0.237966</td>\n",
       "      <td>1.255723</td>\n",
       "      <td>-0.332699</td>\n",
       "      <td>-0.446002</td>\n",
       "      <td>-0.485309</td>\n",
       "      <td>-1.036097</td>\n",
       "      <td>0.367769</td>\n",
       "      <td>-1.162526</td>\n",
       "      <td>-0.619867</td>\n",
       "      <td>NaN</td>\n",
       "    </tr>\n",
       "    <tr>\n",
       "      <th>1</th>\n",
       "      <td>-1.212894</td>\n",
       "      <td>-1.140353</td>\n",
       "      <td>0.074482</td>\n",
       "      <td>0.377975</td>\n",
       "      <td>1.158253</td>\n",
       "      <td>-0.225623</td>\n",
       "      <td>-0.384172</td>\n",
       "      <td>0.514775</td>\n",
       "      <td>0.669234</td>\n",
       "      <td>0.418265</td>\n",
       "      <td>...</td>\n",
       "      <td>-0.237966</td>\n",
       "      <td>-0.639948</td>\n",
       "      <td>-0.332699</td>\n",
       "      <td>-0.446002</td>\n",
       "      <td>-0.485309</td>\n",
       "      <td>0.965161</td>\n",
       "      <td>-2.279439</td>\n",
       "      <td>0.864409</td>\n",
       "      <td>0.843982</td>\n",
       "      <td>NaN</td>\n",
       "    </tr>\n",
       "    <tr>\n",
       "      <th>2</th>\n",
       "      <td>0.824475</td>\n",
       "      <td>0.876922</td>\n",
       "      <td>0.074482</td>\n",
       "      <td>1.017954</td>\n",
       "      <td>-0.863369</td>\n",
       "      <td>-0.225623</td>\n",
       "      <td>-0.384172</td>\n",
       "      <td>0.514775</td>\n",
       "      <td>0.669234</td>\n",
       "      <td>0.418265</td>\n",
       "      <td>...</td>\n",
       "      <td>-0.237966</td>\n",
       "      <td>0.307887</td>\n",
       "      <td>-0.332699</td>\n",
       "      <td>-0.220989</td>\n",
       "      <td>-0.485309</td>\n",
       "      <td>0.965161</td>\n",
       "      <td>-0.073432</td>\n",
       "      <td>0.864409</td>\n",
       "      <td>0.843982</td>\n",
       "      <td>NaN</td>\n",
       "    </tr>\n",
       "    <tr>\n",
       "      <th>3</th>\n",
       "      <td>-1.212894</td>\n",
       "      <td>0.876922</td>\n",
       "      <td>0.074482</td>\n",
       "      <td>0.377975</td>\n",
       "      <td>-0.863369</td>\n",
       "      <td>-0.225623</td>\n",
       "      <td>-0.384172</td>\n",
       "      <td>0.514775</td>\n",
       "      <td>0.669234</td>\n",
       "      <td>0.418265</td>\n",
       "      <td>...</td>\n",
       "      <td>-0.237966</td>\n",
       "      <td>-0.639948</td>\n",
       "      <td>-0.332699</td>\n",
       "      <td>-0.446002</td>\n",
       "      <td>-0.485309</td>\n",
       "      <td>-1.036097</td>\n",
       "      <td>-0.514634</td>\n",
       "      <td>0.864409</td>\n",
       "      <td>0.356032</td>\n",
       "      <td>NaN</td>\n",
       "    </tr>\n",
       "    <tr>\n",
       "      <th>4</th>\n",
       "      <td>0.824475</td>\n",
       "      <td>-1.140353</td>\n",
       "      <td>0.074482</td>\n",
       "      <td>2.777896</td>\n",
       "      <td>-0.863369</td>\n",
       "      <td>-0.225623</td>\n",
       "      <td>-0.384172</td>\n",
       "      <td>0.514775</td>\n",
       "      <td>0.669234</td>\n",
       "      <td>0.418265</td>\n",
       "      <td>...</td>\n",
       "      <td>-0.237966</td>\n",
       "      <td>1.255723</td>\n",
       "      <td>4.162593</td>\n",
       "      <td>0.679064</td>\n",
       "      <td>2.060543</td>\n",
       "      <td>0.965161</td>\n",
       "      <td>-1.397036</td>\n",
       "      <td>0.864409</td>\n",
       "      <td>-1.595766</td>\n",
       "      <td>0.0</td>\n",
       "    </tr>\n",
       "  </tbody>\n",
       "</table>\n",
       "<p>5 rows × 22 columns</p>\n",
       "</div>"
      ],
      "text/plain": [
       "     HighBP  HighChol  CholCheck       BMI    Smoker    Stroke  \\\n",
       "0 -1.212894  0.876922   0.074482 -1.061978  1.158253 -0.225623   \n",
       "1 -1.212894 -1.140353   0.074482  0.377975  1.158253 -0.225623   \n",
       "2  0.824475  0.876922   0.074482  1.017954 -0.863369 -0.225623   \n",
       "3 -1.212894  0.876922   0.074482  0.377975 -0.863369 -0.225623   \n",
       "4  0.824475 -1.140353   0.074482  2.777896 -0.863369 -0.225623   \n",
       "\n",
       "   HeartDiseaseorAttack  PhysActivity    Fruits   Veggies  ...  NoDocbcCost  \\\n",
       "0             -0.384172      0.514775 -1.494245  0.418265  ...    -0.237966   \n",
       "1             -0.384172      0.514775  0.669234  0.418265  ...    -0.237966   \n",
       "2             -0.384172      0.514775  0.669234  0.418265  ...    -0.237966   \n",
       "3             -0.384172      0.514775  0.669234  0.418265  ...    -0.237966   \n",
       "4             -0.384172      0.514775  0.669234  0.418265  ...    -0.237966   \n",
       "\n",
       "    GenHlth  MentHlth  PhysHlth  DiffWalk       Sex       Age  Education  \\\n",
       "0  1.255723 -0.332699 -0.446002 -0.485309 -1.036097  0.367769  -1.162526   \n",
       "1 -0.639948 -0.332699 -0.446002 -0.485309  0.965161 -2.279439   0.864409   \n",
       "2  0.307887 -0.332699 -0.220989 -0.485309  0.965161 -0.073432   0.864409   \n",
       "3 -0.639948 -0.332699 -0.446002 -0.485309 -1.036097 -0.514634   0.864409   \n",
       "4  1.255723  4.162593  0.679064  2.060543  0.965161 -1.397036   0.864409   \n",
       "\n",
       "     Income  Diabetes_binary  \n",
       "0 -0.619867              NaN  \n",
       "1  0.843982              NaN  \n",
       "2  0.843982              NaN  \n",
       "3  0.356032              NaN  \n",
       "4 -1.595766              0.0  \n",
       "\n",
       "[5 rows x 22 columns]"
      ]
     },
     "execution_count": 13,
     "metadata": {},
     "output_type": "execute_result"
    }
   ],
   "source": [
    "#balancing the dataset here:\n",
    "df = pd.read_csv('diabetes.csv')\n",
    "undersample = NearMiss(version=1)\n",
    "X = df.loc[:, df.columns != 'Diabetes_binary']\n",
    "y = df.loc[:, df.columns == 'Diabetes_binary']\n",
    "X, y = undersample.fit_resample(X, y)\n",
    "\n",
    "#splitting the balanced dataset into train and testing samples\n",
    "X_train, X_test, y_train, y_test = train_test_split(X, y, test_size = 0.3, random_state=42)\n",
    "scaler = StandardScaler()\n",
    "scaler.fit(X_train)\n",
    "X_train_scaled = scaler.transform(X_train)\n",
    "X_test_scaled = scaler.transform(X_test)\n",
    "\n",
    "#putting the balanced datasets into individual dataframes for the train and test splits\n",
    "df_undersampled_train = pd.DataFrame(X_train_scaled, columns = X.columns)\n",
    "df_undersampled_train['Diabetes_binary'] = y_train\n",
    "df_undersampled_train.head()\n",
    "\n",
    "df_undersampled_test = pd.DataFrame(X_test_scaled, columns = X.columns)\n",
    "df_undersampled_test['Diabetes_binary'] = y_test\n",
    "df_undersampled_test.head()"
   ]
  },
  {
   "cell_type": "markdown",
   "id": "4c65eb48",
   "metadata": {},
   "source": [
    "# Lasso Feature Selection\n",
    "\n",
    "* This was the best feature selection of the two methods that I tried\n",
    "    * Lasso performed better in ever model compared to correlation\n",
    "   "
   ]
  },
  {
   "cell_type": "code",
   "execution_count": 14,
   "id": "5e18b2c2",
   "metadata": {},
   "outputs": [],
   "source": [
    "X_lasso_selected_train = df_undersampled_train.loc[:, ['Sex', 'HighBP', 'DiffWalk', 'MentHlth', 'HighChol', 'AnyHealthcare', 'Smoker',\n",
    "                       'Fruits','Income']]\n",
    "X_lasso_selected_test = df_undersampled_test.loc[:, ['Sex', 'HighBP', 'DiffWalk', 'MentHlth', 'HighChol', 'AnyHealthcare', 'Smoker',\n",
    "                       'Fruits','Income']]"
   ]
  },
  {
   "cell_type": "markdown",
   "id": "f519aabd",
   "metadata": {},
   "source": [
    "# Wrapper Method Feature Selection\n",
    "\n",
    "* The features used are from the best estimator and direction combonation that yielded the best results"
   ]
  },
  {
   "cell_type": "code",
   "execution_count": 15,
   "id": "cd8de50b",
   "metadata": {},
   "outputs": [],
   "source": [
    "sfs_selected_train = df_undersampled_train.iloc[:, [3, 5, 6, 7, 9, 13, 14, 15, 20]]\n",
    "sfs_selected_test = df_undersampled_test.iloc[:, [3,  5,  6, 7, 9, 13, 14, 15, 20]]"
   ]
  },
  {
   "cell_type": "markdown",
   "id": "4448a527",
   "metadata": {},
   "source": [
    "# Step 1\n",
    "## Best Model Using The Lasso Method"
   ]
  },
  {
   "cell_type": "code",
   "execution_count": 32,
   "id": "9990442c",
   "metadata": {},
   "outputs": [
    {
     "name": "stdout",
     "output_type": "stream",
     "text": [
      "Train Accuracy: 0.8152332066930725\n",
      "Classification Report for Train: \n",
      "              precision    recall  f1-score   support\n",
      "\n",
      "         0.0       0.77      0.90      0.83     24745\n",
      "         1.0       0.88      0.73      0.80     24739\n",
      "\n",
      "    accuracy                           0.82     49484\n",
      "   macro avg       0.83      0.82      0.81     49484\n",
      "weighted avg       0.83      0.82      0.81     49484\n",
      "\n",
      "\n",
      "Confusion Matrix:\n",
      "[[22319  2426]\n",
      " [ 6717 18022]]\n",
      "\n",
      "Test Accuracy: 0.8154941531497548\n",
      "Classification Report for Test: \n",
      "              precision    recall  f1-score   support\n",
      "\n",
      "         0.0       0.77      0.90      0.83     10601\n",
      "         1.0       0.88      0.73      0.80     10607\n",
      "\n",
      "    accuracy                           0.82     21208\n",
      "   macro avg       0.82      0.82      0.81     21208\n",
      "weighted avg       0.82      0.82      0.81     21208\n",
      "\n",
      "\n",
      "Confusion Matrix:\n",
      "[[9540 1061]\n",
      " [2852 7755]]\n",
      "\n"
     ]
    }
   ],
   "source": [
    "rf = RandomForestClassifier(criterion = 'entropy',max_features = 'sqrt', max_depth = 15, min_samples_split = 2,min_samples_leaf=17, random_state=42)\n",
    "rf.fit(X_lasso_selected_train, y_train.values.ravel())\n",
    "rf_train_pred = rf.predict(X_lasso_selected_train)\n",
    "rf_train_score = accuracy_score(y_train, rf_train_pred)\n",
    "rf_test_pred = rf.predict(X_lasso_selected_test)\n",
    "rf_test_score = accuracy_score(y_test, rf_test_pred)\n",
    "\n",
    "print(f'Train Accuracy: {rf_train_score}')\n",
    "print(f'Classification Report for Train: \\n{classification_report(y_train.values.ravel(), rf_train_pred)}\\n')\n",
    "print(f'Confusion Matrix:\\n{confusion_matrix(y_train.values.ravel(), rf_train_pred)}\\n')\n",
    "\n",
    "print(f'Test Accuracy: {rf_test_score}')\n",
    "print(f'Classification Report for Test: \\n{classification_report(y_test.values.ravel(), rf_test_pred)}\\n')\n",
    "print(f'Confusion Matrix:\\n{confusion_matrix(y_test.values.ravel(), rf_test_pred)}\\n')"
   ]
  },
  {
   "cell_type": "markdown",
   "id": "0db48e45",
   "metadata": {},
   "source": [
    "## Confusion Matrix For Test Set On Random Forest Tree With Lasso Method"
   ]
  },
  {
   "cell_type": "code",
   "execution_count": 33,
   "id": "fb05f2e2",
   "metadata": {},
   "outputs": [
    {
     "data": {
      "image/png": "[encoded data removed]",
      "text/plain": [
       "<Figure size 640x480 with 2 Axes>"
      ]
     },
     "metadata": {},
     "output_type": "display_data"
    }
   ],
   "source": [
    "disp = ConfusionMatrixDisplay(confusion_matrix(y_test.values.ravel(), rf_test_pred), display_labels = rf.classes_)\n",
    "disp.plot()\n",
    "plt.show()"
   ]
  },
  {
   "cell_type": "markdown",
   "id": "30e17653",
   "metadata": {},
   "source": [
    "## Best Model Using Wrapper Feature Selection"
   ]
  },
  {
   "cell_type": "code",
   "execution_count": 36,
   "id": "fe388675",
   "metadata": {},
   "outputs": [
    {
     "name": "stdout",
     "output_type": "stream",
     "text": [
      "Train Accuracy: 0.8788699377576591\n",
      "Classification Report for Train: \n",
      "              precision    recall  f1-score   support\n",
      "\n",
      "         0.0       0.84      0.93      0.89     24745\n",
      "         1.0       0.93      0.82      0.87     24739\n",
      "\n",
      "    accuracy                           0.88     49484\n",
      "   macro avg       0.88      0.88      0.88     49484\n",
      "weighted avg       0.88      0.88      0.88     49484\n",
      "\n",
      "\n",
      "Confusion Matrix:\n",
      "[[23093  1652]\n",
      " [ 4342 20397]]\n",
      "\n",
      "Test Accuracy: 0.8728310071671067\n",
      "Classification Report for Test: \n",
      "              precision    recall  f1-score   support\n",
      "\n",
      "         0.0       0.84      0.93      0.88     10601\n",
      "         1.0       0.92      0.82      0.87     10607\n",
      "\n",
      "    accuracy                           0.87     21208\n",
      "   macro avg       0.88      0.87      0.87     21208\n",
      "weighted avg       0.88      0.87      0.87     21208\n",
      "\n",
      "\n",
      "Confusion Matrix:\n",
      "[[9823  778]\n",
      " [1919 8688]]\n",
      "\n"
     ]
    }
   ],
   "source": [
    "rf = RandomForestClassifier(criterion = 'entropy',max_features = 'sqrt', max_depth = 15, min_samples_split = 2,min_samples_leaf=17, random_state=42)\n",
    "rf.fit(sfs_selected_train, y_train.values.ravel())\n",
    "rf_train_pred = rf.predict(sfs_selected_train)\n",
    "rf_train_score = accuracy_score(y_train, rf_train_pred)\n",
    "rf_test_pred = rf.predict(sfs_selected_test)\n",
    "rf_test_score = accuracy_score(y_test, rf_test_pred)\n",
    "\n",
    "print(f'Train Accuracy: {rf_train_score}')\n",
    "print(f'Classification Report for Train: \\n{classification_report(y_train.values.ravel(), rf_train_pred)}\\n')\n",
    "print(f'Confusion Matrix:\\n{confusion_matrix(y_train.values.ravel(), rf_train_pred)}\\n')\n",
    "\n",
    "print(f'Test Accuracy: {rf_test_score}')\n",
    "print(f'Classification Report for Test: \\n{classification_report(y_test.values.ravel(), rf_test_pred)}\\n')\n",
    "print(f'Confusion Matrix:\\n{confusion_matrix(y_test.values.ravel(), rf_test_pred)}\\n')"
   ]
  },
  {
   "cell_type": "markdown",
   "id": "700a3bf9",
   "metadata": {},
   "source": [
    "## Confusion Matrix For Test Set On Random Forest Tree With Wrapper Method"
   ]
  },
  {
   "cell_type": "code",
   "execution_count": 37,
   "id": "97f90442",
   "metadata": {},
   "outputs": [
    {
     "data": {
      "image/png": "[encoded data removed]",
      "text/plain": [
       "<Figure size 640x480 with 2 Axes>"
      ]
     },
     "metadata": {},
     "output_type": "display_data"
    }
   ],
   "source": [
    "disp = ConfusionMatrixDisplay(confusion_matrix(y_test.values.ravel(), rf_test_pred), display_labels = rf.classes_)\n",
    "disp.plot()\n",
    "plt.show()"
   ]
  },
  {
   "cell_type": "markdown",
   "id": "a8f1636a",
   "metadata": {},
   "source": [
    "# Step 5 Models Using Wrapper Feature Selection\n",
    "* Using the wrapper method selection as in all models it had the best performance compared to the Lasso features"
   ]
  },
  {
   "cell_type": "markdown",
   "id": "076223fb",
   "metadata": {},
   "source": [
    "## XGBoost Model"
   ]
  },
  {
   "cell_type": "code",
   "execution_count": 40,
   "id": "5d3a6811",
   "metadata": {},
   "outputs": [
    {
     "name": "stderr",
     "output_type": "stream",
     "text": [
      "C:\\Users\\Felipe\\anaconda3\\lib\\site-packages\\xgboost\\core.py:160: UserWarning: [01:09:28] WARNING: C:\\buildkite-agent\\builds\\buildkite-windows-cpu-autoscaling-group-i-0750514818a16474a-1\\xgboost\\xgboost-ci-windows\\src\\learner.cc:742: \n",
      "Parameters: { \"subsamples\" } are not used.\n",
      "\n",
      "  warnings.warn(smsg, UserWarning)\n"
     ]
    },
    {
     "name": "stdout",
     "output_type": "stream",
     "text": [
      "Train Accuracy: 0.8809514186403686\n",
      "Classification Report for Train: \n",
      "              precision    recall  f1-score   support\n",
      "\n",
      "         0.0       0.84      0.95      0.89     24745\n",
      "         1.0       0.94      0.82      0.87     24739\n",
      "\n",
      "    accuracy                           0.88     49484\n",
      "   macro avg       0.89      0.88      0.88     49484\n",
      "weighted avg       0.89      0.88      0.88     49484\n",
      "\n",
      "\n",
      "Confusion Matrix:\n",
      "[[23412  1333]\n",
      " [ 4558 20181]]\n",
      "\n",
      "Test Accuracy: 0.8741512636740852\n",
      "Classification Report for Test: \n",
      "              precision    recall  f1-score   support\n",
      "\n",
      "         0.0       0.83      0.94      0.88     10601\n",
      "         1.0       0.93      0.81      0.87     10607\n",
      "\n",
      "    accuracy                           0.87     21208\n",
      "   macro avg       0.88      0.87      0.87     21208\n",
      "weighted avg       0.88      0.87      0.87     21208\n",
      "\n",
      "\n",
      "Confusion Matrix:\n",
      "[[9953  648]\n",
      " [2021 8586]]\n",
      "\n"
     ]
    }
   ],
   "source": [
    "xgb = XGBClassifier(colsample_bytree = 0.5, learning_rate = 0.3, max_depth=6, min_child_weight=1,\n",
    "                    objective='binary:hinge', seed=1, subsamples=0.5)\n",
    "xgb.fit(sfs_selected_train, y_train.values.ravel())\n",
    "\n",
    "xgb_train_pred = xgb.predict(sfs_selected_train)\n",
    "xgb_train_score = accuracy_score(y_train.values.ravel(), xgb_train_pred)\n",
    "\n",
    "xgb_test_pred = xgb.predict(sfs_selected_test)\n",
    "xgb_test_score = accuracy_score(y_test.values.ravel(), xgb_test_pred)\n",
    "\n",
    "print(f'Train Accuracy: {xgb_train_score}')\n",
    "print(f'Classification Report for Train: \\n{classification_report(y_train.values.ravel(), xgb_train_pred)}\\n')\n",
    "print(f'Confusion Matrix:\\n{confusion_matrix(y_train.values.ravel(), xgb_train_pred)}\\n')\n",
    "\n",
    "print(f'Test Accuracy: {xgb_test_score}')\n",
    "print(f'Classification Report for Test: \\n{classification_report(y_test.values.ravel(), xgb_test_pred)}\\n')\n",
    "print(f'Confusion Matrix:\\n{confusion_matrix(y_test.values.ravel(), xgb_test_pred)}\\n')"
   ]
  },
  {
   "cell_type": "markdown",
   "id": "332c8033",
   "metadata": {},
   "source": [
    "## Confusion Matrix For Test Set On XGBoost Model With Wrapper Method"
   ]
  },
  {
   "cell_type": "code",
   "execution_count": 41,
   "id": "bc316097",
   "metadata": {},
   "outputs": [
    {
     "data": {
      "image/png": "[encoded data removed]",
      "text/plain": [
       "<Figure size 640x480 with 2 Axes>"
      ]
     },
     "metadata": {},
     "output_type": "display_data"
    }
   ],
   "source": [
    "disp = ConfusionMatrixDisplay(confusion_matrix(y_test.values.ravel(), xgb_test_pred), display_labels = xgb.classes_)\n",
    "disp.plot()\n",
    "plt.show()"
   ]
  },
  {
   "cell_type": "markdown",
   "id": "8d382b74",
   "metadata": {},
   "source": [
    "## Extreme Machine Learning Model\n",
    "\n",
    "* This was based off of a resource found in kaggle that was highly acclaimed.\n",
    "    * The resource is noted in the report"
   ]
  },
  {
   "cell_type": "code",
   "execution_count": 19,
   "id": "9243f46d",
   "metadata": {},
   "outputs": [
    {
     "name": "stdout",
     "output_type": "stream",
     "text": [
      "Accuracy of test set: 1.000000\n",
      "Accuracy of train set: 1.000000\n"
     ]
    }
   ],
   "source": [
    "input_length = sfs_selected_train.shape[1]\n",
    "hidden_units = 1000\n",
    "\n",
    "win = np.random.normal(size = [input_length, hidden_units])\n",
    "\n",
    "def input_to_hidden(x):\n",
    "    a = np.dot(x, win)\n",
    "    a = np.maximum(a, 0, a)\n",
    "    return a\n",
    "\n",
    "x_h_v = input_to_hidden(sfs_selected_train)\n",
    "x_h_t = np.transpose(x_h_v)\n",
    "w_out = np.dot(np.linalg.inv(np.dot(x_h_t, x_h_v)), np.dot(x_h_t, y_train))\n",
    "\n",
    "def predict(x):\n",
    "    x = input_to_hidden(x)\n",
    "    y = np.dot(x, w_out)\n",
    "    return y\n",
    "\n",
    "extreme_pred = predict(sfs_selected_test)\n",
    "num_correct = 0\n",
    "total = extreme_pred.shape[0]\n",
    "for i in range(total):\n",
    "    predicted = np.argmax(extreme_pred[i])\n",
    "    test = np.argmax(y_test.values.ravel()[i])\n",
    "    num_correct = num_correct + (1 if predicted == test else 0)\n",
    "    \n",
    "print('Accuracy of test set: {:f}'.format(num_correct/total))\n",
    "\n",
    "extreme_pred = predict(sfs_selected_train)\n",
    "num_correct = 0\n",
    "total = extreme_pred.shape[0]\n",
    "for i in range(total):\n",
    "    predicted = np.argmax(extreme_pred[i])\n",
    "    train = np.argmax(y_train.values.ravel()[i])\n",
    "    num_correct = num_correct + (1 if predicted == train else 0)\n",
    "    \n",
    "print('Accuracy of train set: {:f}'.format(num_correct/total))"
   ]
  },
  {
   "cell_type": "markdown",
   "id": "293def9c",
   "metadata": {},
   "source": [
    "## Deep Learning Model\n",
    "\n",
    "* Contains 2 hidden layers\n",
    "* There are 4 layers in total\n",
    "    * One input layer\n",
    "    * Two hidden layers\n",
    "        * The first Layer having 40 nodes and the second having 10 nodes\n",
    "    * One output layer"
   ]
  },
  {
   "cell_type": "code",
   "execution_count": 20,
   "id": "0f8f1e81",
   "metadata": {},
   "outputs": [
    {
     "name": "stdout",
     "output_type": "stream",
     "text": [
      "Epoch 1/50\n",
      "4949/4949 [==============================] - 4s 675us/step - loss: 0.3232 - accuracy: 0.8634\n",
      "Epoch 2/50\n",
      "4949/4949 [==============================] - 3s 679us/step - loss: 0.2931 - accuracy: 0.8736\n",
      "Epoch 3/50\n",
      "4949/4949 [==============================] - 3s 679us/step - loss: 0.2892 - accuracy: 0.8760\n",
      "Epoch 4/50\n",
      "4949/4949 [==============================] - 3s 676us/step - loss: 0.2877 - accuracy: 0.8761\n",
      "Epoch 5/50\n",
      "4949/4949 [==============================] - 3s 668us/step - loss: 0.2863 - accuracy: 0.8763\n",
      "Epoch 6/50\n",
      "4949/4949 [==============================] - 3s 685us/step - loss: 0.2860 - accuracy: 0.8762\n",
      "Epoch 7/50\n",
      "4949/4949 [==============================] - 3s 679us/step - loss: 0.2850 - accuracy: 0.8769\n",
      "Epoch 8/50\n",
      "4949/4949 [==============================] - 3s 681us/step - loss: 0.2847 - accuracy: 0.8777\n",
      "Epoch 9/50\n",
      "4949/4949 [==============================] - 3s 666us/step - loss: 0.2847 - accuracy: 0.8771\n",
      "Epoch 10/50\n",
      "4949/4949 [==============================] - 3s 672us/step - loss: 0.2841 - accuracy: 0.8771\n",
      "Epoch 11/50\n",
      "4949/4949 [==============================] - 3s 667us/step - loss: 0.2841 - accuracy: 0.8785\n",
      "Epoch 12/50\n",
      "4949/4949 [==============================] - 3s 667us/step - loss: 0.2835 - accuracy: 0.8783\n",
      "Epoch 13/50\n",
      "4949/4949 [==============================] - 3s 673us/step - loss: 0.2838 - accuracy: 0.8773\n",
      "Epoch 14/50\n",
      "4949/4949 [==============================] - 3s 683us/step - loss: 0.2832 - accuracy: 0.8785\n",
      "Epoch 15/50\n",
      "4949/4949 [==============================] - 3s 680us/step - loss: 0.2830 - accuracy: 0.8778\n",
      "Epoch 16/50\n",
      "4949/4949 [==============================] - 3s 688us/step - loss: 0.2824 - accuracy: 0.8785\n",
      "Epoch 17/50\n",
      "4949/4949 [==============================] - 3s 680us/step - loss: 0.2825 - accuracy: 0.8789\n",
      "Epoch 18/50\n",
      "4949/4949 [==============================] - 3s 672us/step - loss: 0.2822 - accuracy: 0.8777\n",
      "Epoch 19/50\n",
      "4949/4949 [==============================] - 3s 678us/step - loss: 0.2822 - accuracy: 0.8785\n",
      "Epoch 20/50\n",
      "4949/4949 [==============================] - 3s 680us/step - loss: 0.2815 - accuracy: 0.8785\n",
      "Epoch 21/50\n",
      "4949/4949 [==============================] - 3s 672us/step - loss: 0.2820 - accuracy: 0.8776\n",
      "Epoch 22/50\n",
      "4949/4949 [==============================] - 3s 677us/step - loss: 0.2816 - accuracy: 0.8785\n",
      "Epoch 23/50\n",
      "4949/4949 [==============================] - 3s 671us/step - loss: 0.2815 - accuracy: 0.8788\n",
      "Epoch 24/50\n",
      "4949/4949 [==============================] - 3s 679us/step - loss: 0.2813 - accuracy: 0.8792\n",
      "Epoch 25/50\n",
      "4949/4949 [==============================] - 3s 683us/step - loss: 0.2812 - accuracy: 0.8786\n",
      "Epoch 26/50\n",
      "4949/4949 [==============================] - 3s 706us/step - loss: 0.2811 - accuracy: 0.8795\n",
      "Epoch 27/50\n",
      "4949/4949 [==============================] - 4s 709us/step - loss: 0.2806 - accuracy: 0.8790\n",
      "Epoch 28/50\n",
      "4949/4949 [==============================] - 3s 706us/step - loss: 0.2804 - accuracy: 0.8797\n",
      "Epoch 29/50\n",
      "4949/4949 [==============================] - 3s 705us/step - loss: 0.2809 - accuracy: 0.8783\n",
      "Epoch 30/50\n",
      "4949/4949 [==============================] - 3s 684us/step - loss: 0.2808 - accuracy: 0.8795\n",
      "Epoch 31/50\n",
      "4949/4949 [==============================] - 3s 684us/step - loss: 0.2804 - accuracy: 0.8797\n",
      "Epoch 32/50\n",
      "4949/4949 [==============================] - 3s 678us/step - loss: 0.2806 - accuracy: 0.8790\n",
      "Epoch 33/50\n",
      "4949/4949 [==============================] - 3s 680us/step - loss: 0.2804 - accuracy: 0.8796\n",
      "Epoch 34/50\n",
      "4949/4949 [==============================] - 3s 684us/step - loss: 0.2804 - accuracy: 0.8797\n",
      "Epoch 35/50\n",
      "4949/4949 [==============================] - 3s 682us/step - loss: 0.2805 - accuracy: 0.8791\n",
      "Epoch 36/50\n",
      "4949/4949 [==============================] - 3s 679us/step - loss: 0.2802 - accuracy: 0.8794\n",
      "Epoch 37/50\n",
      "4949/4949 [==============================] - 3s 682us/step - loss: 0.2801 - accuracy: 0.8792\n",
      "Epoch 38/50\n",
      "4949/4949 [==============================] - 3s 687us/step - loss: 0.2798 - accuracy: 0.8790\n",
      "Epoch 39/50\n",
      "4949/4949 [==============================] - 3s 692us/step - loss: 0.2798 - accuracy: 0.8791\n",
      "Epoch 40/50\n",
      "4949/4949 [==============================] - 3s 694us/step - loss: 0.2800 - accuracy: 0.8793\n",
      "Epoch 41/50\n",
      "4949/4949 [==============================] - 3s 686us/step - loss: 0.2793 - accuracy: 0.8795\n",
      "Epoch 42/50\n",
      "4949/4949 [==============================] - 3s 681us/step - loss: 0.2796 - accuracy: 0.8794\n",
      "Epoch 43/50\n",
      "4949/4949 [==============================] - 3s 681us/step - loss: 0.2797 - accuracy: 0.8794\n",
      "Epoch 44/50\n",
      "4949/4949 [==============================] - 3s 685us/step - loss: 0.2790 - accuracy: 0.8795\n",
      "Epoch 45/50\n",
      "4949/4949 [==============================] - 3s 682us/step - loss: 0.2797 - accuracy: 0.8790\n",
      "Epoch 46/50\n",
      "4949/4949 [==============================] - 3s 679us/step - loss: 0.2794 - accuracy: 0.8797\n",
      "Epoch 47/50\n",
      "4949/4949 [==============================] - 3s 698us/step - loss: 0.2792 - accuracy: 0.8795\n",
      "Epoch 48/50\n",
      "4949/4949 [==============================] - 3s 683us/step - loss: 0.2792 - accuracy: 0.8799\n",
      "Epoch 49/50\n",
      "4949/4949 [==============================] - 3s 685us/step - loss: 0.2788 - accuracy: 0.8799\n",
      "Epoch 50/50\n",
      "4949/4949 [==============================] - 3s 680us/step - loss: 0.2791 - accuracy: 0.8795\n",
      "1547/1547 [==============================] - 1s 550us/step - loss: 0.2777 - accuracy: 0.8802\n",
      "663/663 [==============================] - 0s 545us/step - loss: 0.3018 - accuracy: 0.8758\n",
      "Train Accuracy: 0.880163311958313\n",
      "Test Accuracy: 0.8758487105369568\n"
     ]
    }
   ],
   "source": [
    "nn = Sequential()\n",
    "nn.add(Dense(20, input_shape=(9,), activation='relu'))\n",
    "nn.add(Dense(40, activation = 'relu'))\n",
    "nn.add(Dense(10, activation = 'relu'))\n",
    "nn.add(Dense(1, activation='sigmoid'))\n",
    "\n",
    "nn.compile(loss = 'binary_crossentropy', optimizer='adam', metrics='accuracy')\n",
    "nn.fit(sfs_selected_train, y_train.values.ravel(), epochs=50, batch_size=10)\n",
    "\n",
    "_, train_accuracy = nn.evaluate(sfs_selected_train, y_train)\n",
    "_2, test_accuracy = nn.evaluate(sfs_selected_test, y_test)\n",
    "\n",
    "print(f'Train Accuracy: {train_accuracy}')\n",
    "print(f'Test Accuracy: {test_accuracy}')"
   ]
  },
  {
   "cell_type": "markdown",
   "id": "5f993530",
   "metadata": {},
   "source": [
    "## Confusion Matrix Of Test Data Using The Neural Network On The Wrapper Selections"
   ]
  },
  {
   "cell_type": "code",
   "execution_count": 55,
   "id": "e03ede1c",
   "metadata": {},
   "outputs": [
    {
     "name": "stdout",
     "output_type": "stream",
     "text": [
      "663/663 [==============================] - 0s 517us/step\n"
     ]
    },
    {
     "data": {
      "image/png": "[encoded data removed]",
      "text/plain": [
       "<Figure size 640x480 with 2 Axes>"
      ]
     },
     "metadata": {},
     "output_type": "display_data"
    }
   ],
   "source": [
    "nn_test_pred = nn.predict(sfs_selected_test)\n",
    "nn_test_pred = np.round(nn_test_pred)\n",
    "\n",
    "cm = confusion_matrix(y_test, nn_test_pred)\n",
    "\n",
    "disp = ConfusionMatrixDisplay(confusion_matrix(y_test.values.ravel(), xgb_test_pred), display_labels = xgb.classes_)\n",
    "disp.plot()\n",
    "plt.show()"
   ]
  },
  {
   "cell_type": "markdown",
   "id": "c72371bd",
   "metadata": {},
   "source": [
    "## Ensemble Model"
   ]
  },
  {
   "cell_type": "code",
   "execution_count": 21,
   "id": "84e42e6e",
   "metadata": {},
   "outputs": [
    {
     "name": "stdout",
     "output_type": "stream",
     "text": [
      "Train Accuracy: 0.878162638428583\n",
      "Classification Report for Train: \n",
      "              precision    recall  f1-score   support\n",
      "\n",
      "         0.0       0.84      0.94      0.89     24745\n",
      "         1.0       0.93      0.81      0.87     24739\n",
      "\n",
      "    accuracy                           0.88     49484\n",
      "   macro avg       0.88      0.88      0.88     49484\n",
      "weighted avg       0.88      0.88      0.88     49484\n",
      "\n",
      "\n",
      "Test Accuracy: 0.8718879668049793\n",
      "Classification Report for Test: \n",
      "              precision    recall  f1-score   support\n",
      "\n",
      "         0.0       0.83      0.93      0.88     10601\n",
      "         1.0       0.93      0.81      0.86     10607\n",
      "\n",
      "    accuracy                           0.87     21208\n",
      "   macro avg       0.88      0.87      0.87     21208\n",
      "weighted avg       0.88      0.87      0.87     21208\n",
      "\n",
      "\n"
     ]
    }
   ],
   "source": [
    "model_1 = RandomForestClassifier(criterion = 'gini', max_depth = 10, min_samples_split = 18, random_state=42)\n",
    "model_2 = SVC(C = 5, degree = 3, gamma = 'scale', kernel = 'rbf')\n",
    "model_3 = LogisticRegression(C = 1, penalty = 'l1', random_state=42, solver = 'saga')\n",
    "\n",
    "ensemble_model = VotingClassifier(estimators = [('rf', model_1), ('svm', model_2), ('lg', model_3)],\n",
    "                                 voting = 'hard',\n",
    "                                 n_jobs = -1,\n",
    "                                 verbose = True)\n",
    "ensemble_model.fit(sfs_selected_train, y_train.values.ravel())\n",
    "ensemble_pred_train = ensemble_model.predict(sfs_selected_train)\n",
    "ensemble_pred_test = ensemble_model.predict(sfs_selected_test)\n",
    "\n",
    "ensemble_train_score = accuracy_score(y_train.values.ravel(), ensemble_pred_train)\n",
    "ensemble_test_score = accuracy_score(y_test.values.ravel(), ensemble_pred_test)\n",
    "\n",
    "print(f'Train Accuracy: {ensemble_train_score}')\n",
    "print(f'Classification Report for Train: \\n{classification_report(y_train.values.ravel(), ensemble_pred_train)}\\n')\n",
    "\n",
    "print(f'Test Accuracy: {ensemble_test_score}')\n",
    "print(f'Classification Report for Test: \\n{classification_report(y_test.values.ravel(), ensemble_pred_test)}\\n')"
   ]
  },
  {
   "cell_type": "markdown",
   "id": "2378b4d1",
   "metadata": {},
   "source": [
    "## Confusion Matrix Of Test Data Using The Ensemble Model With The Wrapper Selections"
   ]
  },
  {
   "cell_type": "code",
   "execution_count": 43,
   "id": "a15ad4ea",
   "metadata": {},
   "outputs": [
    {
     "data": {
      "image/png": "[encoded data removed]",
      "text/plain": [
       "<Figure size 640x480 with 2 Axes>"
      ]
     },
     "metadata": {},
     "output_type": "display_data"
    }
   ],
   "source": [
    "disp = ConfusionMatrixDisplay(confusion_matrix(y_test.values.ravel(), ensemble_pred_test), display_labels = ensemble_model.classes_)\n",
    "disp.plot()\n",
    "plt.show()"
   ]
  },
  {
   "cell_type": "markdown",
   "id": "32fdec1c",
   "metadata": {},
   "source": [
    "# Results\n",
    "\n",
    "* Amongst all the models the model with the highest performance is the Extreme Learning Model\n",
    "    * To be truthful I am unsure as to whether this model can truly be trusted\n",
    "    * However,  it is impossible to take note of the accuracy that it is capable of\n",
    "    * I have gone through and tested the model with random samples on my own and it has yielded the same results\n",
    "\n",
    "\n",
    "* Here is a ranking of the models based off of performance:\n",
    "    1) Extreme Learning Model\n",
    "        * Training Accuracy: 1\n",
    "        * Testing Accuracy: 1\n",
    "        \n",
    "    2) 2 Hidden Layer Neural Network\n",
    "        * Training Accuracy: 0.880\n",
    "        * Testing Accuracy: 0.875\n",
    "        \n",
    "    3) XGBoost Model\n",
    "        * Training Accuracy: 0.880\n",
    "        * Testing Accuracy: 0.874\n",
    "        \n",
    "    4) Random Forest Tree with Wrapper selection method\n",
    "        * Training Accuracy: 0.878\n",
    "        * Testing Accuracy: 0.872\n",
    "    \n",
    "    5) Ensemble Model\n",
    "        * Training Accuracy: 0.878\n",
    "        * Testing Accuracy: 0.871\n",
    "        \n",
    "    6) Random Forest Tree with Lasso selection method \n",
    "        * Training Accuracy: 0.815\n",
    "        * Testing Accuracy: 0.815\n",
    "        \n",
    "    * Important to note that some of these models are only slightly better than their counterparts. For instance, Random Forest is only slightly better than the Ensemble Model. I'm sure with certain data samples the places could be switched but with the current testing this is where the results lie."
   ]
  }
 ],
 "metadata": {
  "kernelspec": {
   "display_name": "Python 3 (ipykernel)",
   "language": "python",
   "name": "python3"
  },
  "language_info": {
   "codemirror_mode": {
    "name": "ipython",
    "version": 3
   },
   "file_extension": ".py",
   "mimetype": "text/x-python",
   "name": "python",
   "nbconvert_exporter": "python",
   "pygments_lexer": "ipython3",
   "version": "3.9.13"
  }
 },
 "nbformat": 4,
 "nbformat_minor": 5
}
